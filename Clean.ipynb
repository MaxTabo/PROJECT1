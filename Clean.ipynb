{
 "cells": [
  {
   "cell_type": "markdown",
   "id": "994a6e16",
   "metadata": {},
   "source": [
    "## Cleaning the DataFrame"
   ]
  },
  {
   "cell_type": "markdown",
   "id": "9f71ca88",
   "metadata": {},
   "source": [
    "### df.dropna(how='all',inplace=True)"
   ]
  },
  {
   "cell_type": "markdown",
   "id": "f9ed00d5",
   "metadata": {},
   "source": [
    "### df=df.dropna(how='any',axis=0,thresh=15)"
   ]
  },
  {
   "cell_type": "markdown",
   "id": "09602102",
   "metadata": {},
   "source": [
    "### df.drop(['Case Number','Date','Location','Name','Investigator or Source','pdf','href formula','href','Unnamed: 22', 'Unnamed: 23'], axis = 1, inplace = True) \n",
    "      "
   ]
  },
  {
   "cell_type": "markdown",
   "id": "ded5beb3",
   "metadata": {},
   "source": [
    "### df['Age'] =sharks_SORTED['Age'].str.replace(r'(^1\\d{0,1})', '10/19')"
   ]
  },
  {
   "cell_type": "markdown",
   "id": "496df9f6",
   "metadata": {},
   "source": [
    "### df= sharks[sharks.groupby('Species').Species.transform('count')>24].copy()"
   ]
  },
  {
   "cell_type": "code",
   "execution_count": null,
   "id": "b1667b51",
   "metadata": {},
   "outputs": [],
   "source": []
  }
 ],
 "metadata": {
  "kernelspec": {
   "display_name": "Python 3 (ipykernel)",
   "language": "python",
   "name": "python3"
  },
  "language_info": {
   "codemirror_mode": {
    "name": "ipython",
    "version": 3
   },
   "file_extension": ".py",
   "mimetype": "text/x-python",
   "name": "python",
   "nbconvert_exporter": "python",
   "pygments_lexer": "ipython3",
   "version": "3.9.12"
  }
 },
 "nbformat": 4,
 "nbformat_minor": 5
}
