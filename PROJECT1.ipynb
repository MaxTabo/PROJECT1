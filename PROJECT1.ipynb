{
 "cells": [
  {
   "cell_type": "markdown",
   "id": "f034f802",
   "metadata": {},
   "source": [
    "#                                                  ***PROJECT1***"
   ]
  },
  {
   "cell_type": "code",
   "execution_count": 88,
   "id": "9c564d0d",
   "metadata": {},
   "outputs": [],
   "source": [
    "import re\n",
    "import seaborn as sns\n",
    "import pandas as pd\n",
    "import numpy as np\n",
    "import matplotlib.pyplot as plt\n",
    "import plotly.express as px\n",
    "import plotly.graph_objects as go"
   ]
  },
  {
   "cell_type": "markdown",
   "id": "e1685b36",
   "metadata": {},
   "source": [
    "   # IMPORTING FILE."
   ]
  },
  {
   "cell_type": "code",
   "execution_count": 31,
   "id": "0e5e6c56",
   "metadata": {},
   "outputs": [],
   "source": [
    "sharks= pd.read_csv ('./data/attacks.csv', encoding='unicode_escape')"
   ]
  },
  {
   "cell_type": "code",
   "execution_count": 33,
   "id": "a9420dd4",
   "metadata": {
    "scrolled": true
   },
   "outputs": [
    {
     "data": {
      "text/plain": [
       "(25723, 24)"
      ]
     },
     "execution_count": 33,
     "metadata": {},
     "output_type": "execute_result"
    }
   ],
   "source": [
    "sharks.shape"
   ]
  },
  {
   "cell_type": "markdown",
   "id": "00dfbfc8",
   "metadata": {},
   "source": [
    "# HYPOTHESIS"
   ]
  },
  {
   "cell_type": "markdown",
   "id": "fb5eae83",
   "metadata": {},
   "source": [
    "## 1-The most dangerous activity for shark attacks is surfing"
   ]
  },
  {
   "cell_type": "markdown",
   "id": "566b426d",
   "metadata": {},
   "source": [
    "## 2-Men are attacked much more than women"
   ]
  },
  {
   "cell_type": "markdown",
   "id": "9d251a4b",
   "metadata": {},
   "source": [
    "## 3-Australia is the country with the most shark attacks rate on earth"
   ]
  },
  {
   "cell_type": "markdown",
   "id": "c60fc526",
   "metadata": {},
   "source": [
    "## 4-White sharks commit the most quantity of fatal attacks"
   ]
  },
  {
   "cell_type": "markdown",
   "id": "0a31b1fa",
   "metadata": {},
   "source": [
    "## 5- Youth are the most attacked by sharks"
   ]
  },
  {
   "cell_type": "markdown",
   "id": "146c2e37",
   "metadata": {},
   "source": [
    "## DROPPING MISSING VALUES."
   ]
  },
  {
   "cell_type": "code",
   "execution_count": 34,
   "id": "764f6b10",
   "metadata": {},
   "outputs": [],
   "source": [
    "sharks.dropna(how='all',inplace=True)\n"
   ]
  },
  {
   "cell_type": "code",
   "execution_count": 35,
   "id": "bb555e26",
   "metadata": {
    "scrolled": true
   },
   "outputs": [
    {
     "data": {
      "text/plain": [
       "(8703, 24)"
      ]
     },
     "execution_count": 35,
     "metadata": {},
     "output_type": "execute_result"
    }
   ],
   "source": [
    "sharks.shape"
   ]
  },
  {
   "cell_type": "markdown",
   "id": "86e87656",
   "metadata": {},
   "source": [
    "DROPPING ROWS WITH SOME MISSING VALUES"
   ]
  },
  {
   "cell_type": "code",
   "execution_count": 36,
   "id": "ffd20b9a",
   "metadata": {
    "scrolled": true
   },
   "outputs": [],
   "source": [
    "sharks=sharks.dropna(how='any',axis=0,thresh=15)"
   ]
  },
  {
   "cell_type": "markdown",
   "id": "21fb28f8",
   "metadata": {},
   "source": [
    "## DROPPING OFF UNNECESSARY COLUMNS"
   ]
  },
  {
   "cell_type": "code",
   "execution_count": 52,
   "id": "ef2c4cf1",
   "metadata": {},
   "outputs": [],
   "source": [
    "sharks.drop(['Case Number','Date','Location','Name','Investigator or Source','pdf','href formula','href',\n",
    "       'Unnamed: 22', 'Unnamed: 23'], axis = 1, inplace = True) "
   ]
  },
  {
   "cell_type": "code",
   "execution_count": 61,
   "id": "91e28091",
   "metadata": {},
   "outputs": [],
   "source": [
    "Test3=sharks.loc[(sharks['Year']>1800,['Year', 'Type', 'Country', 'Area', 'Activity', 'Sex ', 'Age', 'Injury',\n",
    "       'Fatal (Y/N)', 'Time', 'Species '])]"
   ]
  },
  {
   "cell_type": "code",
   "execution_count": 65,
   "id": "f2c175b2",
   "metadata": {},
   "outputs": [],
   "source": [
    "sharks1=sharks.sort_values('Year')"
   ]
  },
  {
   "cell_type": "markdown",
   "id": "98d78d0f",
   "metadata": {},
   "source": [
    "## CLEANING WITH REGEX"
   ]
  },
  {
   "cell_type": "code",
   "execution_count": 68,
   "id": "6b1a1c66",
   "metadata": {},
   "outputs": [],
   "source": [
    "Test3['FATAL Y/N'] =Test3[\"Fatal (Y/N)\"].str.extract('(^N|Y)')"
   ]
  },
  {
   "cell_type": "code",
   "execution_count": 70,
   "id": "61130c94",
   "metadata": {},
   "outputs": [],
   "source": [
    "Test3.drop(['Fatal (Y/N)'], axis = 1, inplace = True) "
   ]
  },
  {
   "cell_type": "code",
   "execution_count": 71,
   "id": "7a228fe2",
   "metadata": {},
   "outputs": [],
   "source": [
    "Test3=sharks"
   ]
  },
  {
   "cell_type": "code",
   "execution_count": null,
   "id": "4d8937b4",
   "metadata": {},
   "outputs": [],
   "source": [
    "sharks['Species'] =sharks[\"Species \"].str.extract('([A-Z|a-z]{1,}\\s{1}shark[\\W\\w\\s])')\n"
   ]
  },
  {
   "cell_type": "code",
   "execution_count": null,
   "id": "c20fa3a4",
   "metadata": {},
   "outputs": [],
   "source": [
    "sharks.drop(['Species '], axis = 1, inplace = True)"
   ]
  },
  {
   "cell_type": "code",
   "execution_count": 394,
   "id": "9c2e17e2",
   "metadata": {},
   "outputs": [],
   "source": [
    "sharks_SORTED['Sex'] =sharks_SORTED['Sex'].str.extract('(^M|F)')"
   ]
  },
  {
   "cell_type": "code",
   "execution_count": 444,
   "id": "82110b74",
   "metadata": {},
   "outputs": [],
   "source": [
    "sharks_SORTED['Fatal (Y/N)'] =sharks_SORTED['Fatal (Y/N)'].str.extract('(^Y|N)')"
   ]
  },
  {
   "cell_type": "code",
   "execution_count": 391,
   "id": "eb18c0ab",
   "metadata": {},
   "outputs": [],
   "source": [
    "sharks_SORTED['Fatal (Y/N)']=Test3['Fatal (Y/N)']"
   ]
  },
  {
   "cell_type": "code",
   "execution_count": 76,
   "id": "4b921cad",
   "metadata": {},
   "outputs": [],
   "source": [
    "test=sharks"
   ]
  },
  {
   "cell_type": "code",
   "execution_count": 78,
   "id": "b47b7d97",
   "metadata": {},
   "outputs": [],
   "source": [
    "test=test.loc[(test['Year']>1800,['Year', 'Type', 'Country', 'Area', 'Activity', 'Sex ', 'Age', 'Injury',\n",
    "       'Fatal (Y/N)', 'Time', 'Species '])]"
   ]
  },
  {
   "cell_type": "code",
   "execution_count": 634,
   "id": "dd27d814",
   "metadata": {
    "scrolled": true
   },
   "outputs": [
    {
     "data": {
      "text/plain": [
       "20/29    184\n",
       "10/19     62\n",
       "30/39     47\n",
       "40/49     44\n",
       "50/59     26\n",
       "60/69      8\n",
       "70/79      3\n",
       "Name: Age, dtype: int64"
      ]
     },
     "execution_count": 634,
     "metadata": {},
     "output_type": "execute_result"
    }
   ],
   "source": [
    "sharks_SORTED['Age'].value_counts()"
   ]
  },
  {
   "cell_type": "code",
   "execution_count": 92,
   "id": "0ee10fa2",
   "metadata": {},
   "outputs": [],
   "source": [
    "test['Species'] =test[\"Species \"].str.extract('([A-Z|a-z]{1,}\\s{1}shark[\\W\\w\\s])')"
   ]
  },
  {
   "cell_type": "code",
   "execution_count": 93,
   "id": "a8c32788",
   "metadata": {},
   "outputs": [],
   "source": [
    "test['Species2'] =test[\"Species\"].str.extract('([A-Z|a-z]{1,}\\s{1}shark)')"
   ]
  },
  {
   "cell_type": "code",
   "execution_count": 465,
   "id": "495d4cb1",
   "metadata": {
    "collapsed": true
   },
   "outputs": [
    {
     "name": "stderr",
     "output_type": "stream",
     "text": [
      "C:\\Users\\mataf\\AppData\\Local\\Temp\\ipykernel_15928\\30442313.py:1: FutureWarning:\n",
      "\n",
      "The default value of regex will change from True to False in a future version.\n",
      "\n"
     ]
    }
   ],
   "source": [
    "sharks_SORTED['Age'] =sharks_SORTED['Age'].str.replace(r'(^\\d$)', '0/9')"
   ]
  },
  {
   "cell_type": "code",
   "execution_count": 362,
   "id": "e649a274",
   "metadata": {},
   "outputs": [],
   "source": [
    "sharks_SORTED['Age'] =sharks_SORTED['Age'].str.extract('(^\\d{1,2}\\/\\d{1,2})')"
   ]
  },
  {
   "cell_type": "code",
   "execution_count": 101,
   "id": "c41ded18",
   "metadata": {},
   "outputs": [],
   "source": [
    "test.drop(['Species '], axis = 1, inplace = True) "
   ]
  },
  {
   "cell_type": "code",
   "execution_count": 207,
   "id": "d53e5ffe",
   "metadata": {},
   "outputs": [],
   "source": [
    "test['Activitytest'] =test[\"Activity\"].str.extract('(\\w[a-z]{,10}ing)')"
   ]
  },
  {
   "cell_type": "markdown",
   "id": "f08fc6e2",
   "metadata": {},
   "source": [
    "## Replacing values"
   ]
  },
  {
   "cell_type": "code",
   "execution_count": 456,
   "id": "f277375d",
   "metadata": {
    "collapsed": true
   },
   "outputs": [
    {
     "name": "stderr",
     "output_type": "stream",
     "text": [
      "C:\\Users\\mataf\\AppData\\Local\\Temp\\ipykernel_15928\\2134054263.py:1: FutureWarning:\n",
      "\n",
      "The default value of regex will change from True to False in a future version.\n",
      "\n"
     ]
    }
   ],
   "source": [
    "sharks_SORTED['Age'] =sharks_SORTED['Age'].str.replace(r'(^1\\d{0,1})', '10/19')"
   ]
  },
  {
   "cell_type": "code",
   "execution_count": 458,
   "id": "abb59b6b",
   "metadata": {
    "collapsed": true
   },
   "outputs": [
    {
     "name": "stderr",
     "output_type": "stream",
     "text": [
      "C:\\Users\\mataf\\AppData\\Local\\Temp\\ipykernel_15928\\1124316000.py:1: FutureWarning:\n",
      "\n",
      "The default value of regex will change from True to False in a future version.\n",
      "\n"
     ]
    }
   ],
   "source": [
    "sharks_SORTED['Age'] =sharks_SORTED['Age'].str.replace(r'(^2\\d{0,1})', '20/29')"
   ]
  },
  {
   "cell_type": "code",
   "execution_count": 459,
   "id": "9d7e7935",
   "metadata": {
    "collapsed": true
   },
   "outputs": [
    {
     "name": "stderr",
     "output_type": "stream",
     "text": [
      "C:\\Users\\mataf\\AppData\\Local\\Temp\\ipykernel_15928\\1132501425.py:1: FutureWarning:\n",
      "\n",
      "The default value of regex will change from True to False in a future version.\n",
      "\n"
     ]
    }
   ],
   "source": [
    "sharks_SORTED['Age'] =sharks_SORTED['Age'].str.replace(r'(^3\\d{0,1})', '30/39')"
   ]
  },
  {
   "cell_type": "code",
   "execution_count": 460,
   "id": "cd491954",
   "metadata": {
    "collapsed": true
   },
   "outputs": [
    {
     "name": "stderr",
     "output_type": "stream",
     "text": [
      "C:\\Users\\mataf\\AppData\\Local\\Temp\\ipykernel_15928\\666906005.py:1: FutureWarning:\n",
      "\n",
      "The default value of regex will change from True to False in a future version.\n",
      "\n"
     ]
    }
   ],
   "source": [
    "sharks_SORTED['Age'] =sharks_SORTED['Age'].str.replace(r'(^4\\d{0,1})', '40/49')"
   ]
  },
  {
   "cell_type": "code",
   "execution_count": 461,
   "id": "d5bd5c2d",
   "metadata": {
    "collapsed": true
   },
   "outputs": [
    {
     "name": "stderr",
     "output_type": "stream",
     "text": [
      "C:\\Users\\mataf\\AppData\\Local\\Temp\\ipykernel_15928\\1339188513.py:1: FutureWarning:\n",
      "\n",
      "The default value of regex will change from True to False in a future version.\n",
      "\n"
     ]
    }
   ],
   "source": [
    "sharks_SORTED['Age'] =sharks_SORTED['Age'].str.replace(r'(^5\\d{0,1})', '50/59')"
   ]
  },
  {
   "cell_type": "code",
   "execution_count": 462,
   "id": "0e16c3b1",
   "metadata": {
    "collapsed": true
   },
   "outputs": [
    {
     "name": "stderr",
     "output_type": "stream",
     "text": [
      "C:\\Users\\mataf\\AppData\\Local\\Temp\\ipykernel_15928\\3335385396.py:1: FutureWarning:\n",
      "\n",
      "The default value of regex will change from True to False in a future version.\n",
      "\n"
     ]
    }
   ],
   "source": [
    "sharks_SORTED['Age'] =sharks_SORTED['Age'].str.replace(r'(^6\\d{0,1})', '60/69')"
   ]
  },
  {
   "cell_type": "code",
   "execution_count": 463,
   "id": "02c52b4c",
   "metadata": {
    "collapsed": true
   },
   "outputs": [
    {
     "name": "stderr",
     "output_type": "stream",
     "text": [
      "C:\\Users\\mataf\\AppData\\Local\\Temp\\ipykernel_15928\\2761317913.py:1: FutureWarning:\n",
      "\n",
      "The default value of regex will change from True to False in a future version.\n",
      "\n"
     ]
    }
   ],
   "source": [
    "sharks_SORTED['Age'] =sharks_SORTED['Age'].str.replace(r'(^7\\d{0,1})', '70/79')"
   ]
  },
  {
   "cell_type": "code",
   "execution_count": 464,
   "id": "a1ccc178",
   "metadata": {
    "collapsed": true
   },
   "outputs": [
    {
     "name": "stderr",
     "output_type": "stream",
     "text": [
      "C:\\Users\\mataf\\AppData\\Local\\Temp\\ipykernel_15928\\207158754.py:1: FutureWarning:\n",
      "\n",
      "The default value of regex will change from True to False in a future version.\n",
      "\n"
     ]
    }
   ],
   "source": [
    "sharks_SORTED['Age'] =sharks_SORTED['Age'].str.replace(r'(^8\\d{0,1})', '80/89')"
   ]
  },
  {
   "cell_type": "code",
   "execution_count": 633,
   "id": "9f06b2bb",
   "metadata": {},
   "outputs": [],
   "source": [
    "sharks_SORTED['Age'] =sharks_SORTED['Age'].str.replace('0/9', '20/29')"
   ]
  },
  {
   "cell_type": "code",
   "execution_count": 97,
   "id": "0390de2b",
   "metadata": {},
   "outputs": [],
   "source": [
    "test['Species']=test['Species2']"
   ]
  },
  {
   "cell_type": "code",
   "execution_count": 99,
   "id": "a97d2ff9",
   "metadata": {},
   "outputs": [],
   "source": [
    "test.drop(['Species2'], axis = 1, inplace = True) "
   ]
  },
  {
   "cell_type": "code",
   "execution_count": 104,
   "id": "4752ada4",
   "metadata": {},
   "outputs": [],
   "source": [
    "sharks=test"
   ]
  },
  {
   "cell_type": "code",
   "execution_count": 105,
   "id": "c39902f5",
   "metadata": {},
   "outputs": [],
   "source": [
    "test['Country'] = test['Country'].str.upper()"
   ]
  },
  {
   "cell_type": "code",
   "execution_count": null,
   "id": "907d9de0",
   "metadata": {},
   "outputs": [],
   "source": [
    "test['Country'] = test['Country'].str.upper()"
   ]
  },
  {
   "cell_type": "code",
   "execution_count": null,
   "id": "baf9994c",
   "metadata": {},
   "outputs": [],
   "source": [
    "test.dtypes"
   ]
  },
  {
   "cell_type": "code",
   "execution_count": 107,
   "id": "5e1140b0",
   "metadata": {},
   "outputs": [
    {
     "name": "stderr",
     "output_type": "stream",
     "text": [
      "C:\\Users\\mataf\\AppData\\Local\\Temp\\ipykernel_15928\\636767607.py:1: FutureWarning: The default value of regex will change from True to False in a future version.\n",
      "  test['Age'] = test['Age'].str.replace(r'[^\\d.]+', '')\n",
      "C:\\Users\\mataf\\AppData\\Local\\Temp\\ipykernel_15928\\636767607.py:2: FutureWarning: The default value of regex will change from True to False in a future version. In addition, single character regular expressions will *not* be treated as literal strings when regex=True.\n",
      "  test['Age'] = test['Age'].str.replace('.', '')\n"
     ]
    }
   ],
   "source": [
    "test['Age'] = test['Age'].str.replace(r'[^\\d.]+', '')\n",
    "test['Age'] = test['Age'].str.replace('.', '')\n",
    "test['Age'] = test['Age'].replace(np.nan, 0)\n",
    "test['Age'] = test['Age'].replace('', \"0\")"
   ]
  },
  {
   "cell_type": "markdown",
   "id": "ee0b63c0",
   "metadata": {},
   "source": [
    "## CHECKING TYPES IF CHANGES ARE NEEDED"
   ]
  },
  {
   "cell_type": "code",
   "execution_count": 338,
   "id": "563d9110",
   "metadata": {},
   "outputs": [],
   "source": [
    "test['Age']=test['Age'].astype(str).astype(int)"
   ]
  },
  {
   "cell_type": "code",
   "execution_count": 136,
   "id": "55ab67f9",
   "metadata": {},
   "outputs": [],
   "source": [
    "test['Year']=test['Year'].astype(int)"
   ]
  },
  {
   "cell_type": "code",
   "execution_count": 455,
   "id": "624b8c0e",
   "metadata": {},
   "outputs": [],
   "source": [
    "sharks_SORTED['Age']=sharks_SORTED['Age'].astype(str)"
   ]
  },
  {
   "cell_type": "code",
   "execution_count": 142,
   "id": "3a4d7168",
   "metadata": {},
   "outputs": [
    {
     "data": {
      "text/html": [
       "<div>\n",
       "<style scoped>\n",
       "    .dataframe tbody tr th:only-of-type {\n",
       "        vertical-align: middle;\n",
       "    }\n",
       "\n",
       "    .dataframe tbody tr th {\n",
       "        vertical-align: top;\n",
       "    }\n",
       "\n",
       "    .dataframe thead th {\n",
       "        text-align: right;\n",
       "    }\n",
       "</style>\n",
       "<table border=\"1\" class=\"dataframe\">\n",
       "  <thead>\n",
       "    <tr style=\"text-align: right;\">\n",
       "      <th></th>\n",
       "      <th>Year</th>\n",
       "      <th>Type</th>\n",
       "      <th>Country</th>\n",
       "      <th>Area</th>\n",
       "      <th>Activity</th>\n",
       "      <th>Sex</th>\n",
       "      <th>Age</th>\n",
       "      <th>Injury</th>\n",
       "      <th>Fatal (Y/N)</th>\n",
       "      <th>Time</th>\n",
       "      <th>Species</th>\n",
       "    </tr>\n",
       "  </thead>\n",
       "  <tbody>\n",
       "    <tr>\n",
       "      <th>508</th>\n",
       "      <td>2014</td>\n",
       "      <td>Provoked</td>\n",
       "      <td>USA</td>\n",
       "      <td>Maryland</td>\n",
       "      <td>Fishing</td>\n",
       "      <td>M</td>\n",
       "      <td>33</td>\n",
       "      <td>Lacerations to foot by hooked shark PROVOKED I...</td>\n",
       "      <td>N</td>\n",
       "      <td>NaN</td>\n",
       "      <td>NaN</td>\n",
       "    </tr>\n",
       "  </tbody>\n",
       "</table>\n",
       "</div>"
      ],
      "text/plain": [
       "     Year      Type Country      Area Activity Sex   Age  \\\n",
       "508  2014  Provoked     USA  Maryland  Fishing    M   33   \n",
       "\n",
       "                                                Injury Fatal (Y/N) Time  \\\n",
       "508  Lacerations to foot by hooked shark PROVOKED I...           N  NaN   \n",
       "\n",
       "    Species  \n",
       "508     NaN  "
      ]
     },
     "execution_count": 142,
     "metadata": {},
     "output_type": "execute_result"
    }
   ],
   "source": [
    "sharks.sample()"
   ]
  },
  {
   "cell_type": "code",
   "execution_count": 208,
   "id": "c0d8919d",
   "metadata": {},
   "outputs": [],
   "source": [
    "test['Activitytest'] = test['Activitytest'].str.upper()"
   ]
  },
  {
   "cell_type": "code",
   "execution_count": 436,
   "id": "60bbca7a",
   "metadata": {},
   "outputs": [],
   "source": [
    "sharks_SORTED['Species'] =sharks_SORTED['Species'].str.upper()"
   ]
  },
  {
   "cell_type": "code",
   "execution_count": 273,
   "id": "f0780f2e",
   "metadata": {},
   "outputs": [],
   "source": [
    "test.drop(['Area'], axis = 1, inplace = True) "
   ]
  },
  {
   "cell_type": "code",
   "execution_count": 211,
   "id": "4d8b0326",
   "metadata": {},
   "outputs": [],
   "source": [
    "test.drop(['Activitytest'], axis = 1, inplace = True) "
   ]
  },
  {
   "cell_type": "code",
   "execution_count": 433,
   "id": "de9553f1",
   "metadata": {},
   "outputs": [],
   "source": [
    "sharks_SORTED.drop(['Sex '], axis = 1, inplace = True) "
   ]
  },
  {
   "cell_type": "code",
   "execution_count": 210,
   "id": "eabf6fbb",
   "metadata": {},
   "outputs": [],
   "source": [
    "test['Activity'] =test[\"Activitytest\"]"
   ]
  },
  {
   "cell_type": "code",
   "execution_count": 176,
   "id": "79a67fd7",
   "metadata": {},
   "outputs": [],
   "source": [
    "sharks=test"
   ]
  },
  {
   "cell_type": "raw",
   "id": "62461c17",
   "metadata": {},
   "source": [
    "sharks"
   ]
  },
  {
   "cell_type": "code",
   "execution_count": 213,
   "id": "212209d2",
   "metadata": {
    "collapsed": true
   },
   "outputs": [
    {
     "name": "stdout",
     "output_type": "stream",
     "text": [
      "SURFING           1083\n",
      "SWIMMING          1061\n",
      "FISHING            692\n",
      "DIVING             498\n",
      "SPEARFISHING       402\n",
      "BATHING            181\n",
      "WADING             164\n",
      "BOARDING           136\n",
      "STANDING           128\n",
      "SNORKELING          93\n",
      "FLOATING            47\n",
      "KAYAKING            42\n",
      "TREADING            39\n",
      "SKIING              36\n",
      "ATTEMPTING          31\n",
      "WALKING             26\n",
      "PLAYING             25\n",
      "WINDSURFING         21\n",
      "SITTING             21\n",
      "ROWING              21\n",
      "PADDLING            17\n",
      "FREEDIVING          14\n",
      "SINKING             14\n",
      "CANOEING            13\n",
      "FEEDING             12\n",
      "SAILING             12\n",
      "COLLECTING          11\n",
      "WASHING             11\n",
      "SKINDIVING          10\n",
      "NETTING             10\n",
      "DURING               9\n",
      "SPLASHING            9\n",
      "BOATING              8\n",
      "CLINGING             8\n",
      "LYING                7\n",
      "REMOVING             7\n",
      "HUNTING              7\n",
      "JUMPING              6\n",
      "COMPETING            6\n",
      "WATCHING             6\n",
      "PADDLEBOARDING       6\n",
      "FILMING              6\n",
      "PADDLESKIING         5\n",
      "CLEANING             5\n",
      "CROSSING             5\n",
      "DANGLING             5\n",
      "TAGGING              5\n",
      "LIFESAVING           5\n",
      "DING                 5\n",
      "CATCHING             4\n",
      "CLAMMING             4\n",
      "KILLING              4\n",
      "PULLING              4\n",
      "RETURNING            4\n",
      "BEING                4\n",
      "RIDING               4\n",
      "DRAGGING             4\n",
      "CRABBING             4\n",
      "SPEARING             4\n",
      "ESCAPING             4\n",
      "HAULING              3\n",
      "GATHERING            3\n",
      "TOUCHING             3\n",
      "FLYING               3\n",
      "PHOTOGRAPHING        3\n",
      "WORKING              3\n",
      "FINNING              3\n",
      "PREPARING            3\n",
      "TAKING               3\n",
      "CLIMBING             3\n",
      "LAUNCHING            3\n",
      "RACING               3\n",
      "PICKING              3\n",
      "HOLDING              3\n",
      "CRAYFISHING          3\n",
      "HELPING              3\n",
      "SCULLING             3\n",
      "CARRYING             2\n",
      "HOISTING             2\n",
      "WEARING              2\n",
      "HANGING              2\n",
      "BURNING              2\n",
      "TESTING              2\n",
      "ABANDONING           2\n",
      "GAFFING              2\n",
      "TRAILING             2\n",
      "READING              2\n",
      "FOUNDERING           2\n",
      "MOVING               2\n",
      "RETRIEVING           2\n",
      "TOWING               2\n",
      "RESCUING             2\n",
      "KITEBOARDING         2\n",
      "CROUCHING            2\n",
      "CHUMMING             2\n",
      "BOEING               2\n",
      "CONDUCTING           2\n",
      "CRUISING             2\n",
      "LANDING              2\n",
      "PETTING              2\n",
      "TEASING              2\n",
      "RESTING              2\n",
      "SHOOTING             2\n",
      "DEFECATING           1\n",
      "INVOLVING            1\n",
      "HOOKING              1\n",
      "SALVAGING            1\n",
      "PAINTING             1\n",
      "BRINGING             1\n",
      "COMING               1\n",
      "HARASSING            1\n",
      "EXAMINING            1\n",
      "TRYING               1\n",
      "FIGHTING             1\n",
      "CUTTING              1\n",
      "BENDING              1\n",
      "REACHING             1\n",
      "GUARDING             1\n",
      "DESERTING            1\n",
      "MURDERING            1\n",
      "STUFFING             1\n",
      "TRAVELING            1\n",
      "AWAITING             1\n",
      "EXPECTING            1\n",
      "HARPOONING           1\n",
      "DISMANTLING          1\n",
      "FOOTING              1\n",
      "SHELLING             1\n",
      "ANGLING              1\n",
      "PURSUING             1\n",
      "FEELING              1\n",
      "SCOOPING             1\n",
      "TRAVELLING           1\n",
      "FLEEING              1\n",
      "THING                1\n",
      "SING                 1\n",
      "DROWNING             1\n",
      "WAITING              1\n",
      "PEARLING             1\n",
      "YACHTING             1\n",
      "RESTRAINING          1\n",
      "OYSTERING            1\n",
      "MORNING              1\n",
      "LONGLING             1\n",
      "WAKEBOARDING         1\n",
      "OBSERVING            1\n",
      "STAMDING             1\n",
      "SLEEPING             1\n",
      "HIKING               1\n",
      "SCURFING             1\n",
      "SHRIMPING            1\n",
      "REVIVING             1\n",
      "CRAWLING             1\n",
      "MEASURING            1\n",
      "BODYBOARDING         1\n",
      "DROPPING             1\n",
      "WRANGLING            1\n",
      "CASTING              1\n",
      "KITESURFING          1\n",
      "KNEELING             1\n",
      "BODYSURFING          1\n",
      "LOBSTERING           1\n",
      "GRABBING             1\n",
      "KAKAYING             1\n",
      "SKIMBOARDING         1\n",
      "SITTTING             1\n",
      "DITCHING             1\n",
      "DYNAMITING           1\n",
      "SUNBATHING           1\n",
      "GIGGING              1\n",
      "SETTING              1\n",
      "LINING               1\n",
      "CHASING              1\n",
      "CHECKING             1\n",
      "ATTACHING            1\n",
      "MISSING              1\n",
      "SEINING              1\n",
      "SEARCHING            1\n",
      "THROWING             1\n",
      "MESHING              1\n",
      "LEAVING              1\n",
      "KING                 1\n",
      "SEEING               1\n",
      "THRASHING            1\n",
      "DRAWING              1\n",
      "EXERCISING           1\n",
      "INSPECTING           1\n",
      "SAILBOARDING         1\n",
      "INVESTIGATING        1\n",
      "LOADING              1\n"
     ]
    }
   ],
   "source": [
    "check =sharks['Activity'].value_counts()\n",
    "print(check.to_string())"
   ]
  },
  {
   "cell_type": "markdown",
   "id": "b8291263",
   "metadata": {},
   "source": [
    "## Keeping elements in a specific range"
   ]
  },
  {
   "cell_type": "code",
   "execution_count": 226,
   "id": "d8388b82",
   "metadata": {},
   "outputs": [],
   "source": [
    "sharks_Activity= sharks[sharks.groupby('Activity').Activity.transform('count')>60].copy() "
   ]
  },
  {
   "cell_type": "code",
   "execution_count": 289,
   "id": "57782abf",
   "metadata": {},
   "outputs": [
    {
     "data": {
      "text/plain": [
       "Index(['Year', 'Type', 'Country', 'Sex ', 'Age', 'Injury', 'Fatal (Y/N)',\n",
       "       'Time', 'Species', 'Activity'],\n",
       "      dtype='object')"
      ]
     },
     "execution_count": 289,
     "metadata": {},
     "output_type": "execute_result"
    }
   ],
   "source": [
    "sharks_SORTED.columns"
   ]
  },
  {
   "cell_type": "code",
   "execution_count": 480,
   "id": "5bb09136",
   "metadata": {},
   "outputs": [],
   "source": [
    "sharks_Species= sharks[sharks.groupby('Species').Species.transform('count')>24]"
   ]
  },
  {
   "cell_type": "code",
   "execution_count": 585,
   "id": "9aa85020",
   "metadata": {},
   "outputs": [],
   "source": [
    "sharks_SORTED= sharks_SORTED[sharks_SORTED.groupby('Country').Country.transform('count')>10]"
   ]
  },
  {
   "cell_type": "code",
   "execution_count": 424,
   "id": "fc3728d0",
   "metadata": {},
   "outputs": [],
   "source": [
    "sharks_SORTED= sharks[sharks.groupby('Species').Species.transform('count')>24].copy()"
   ]
  },
  {
   "cell_type": "code",
   "execution_count": 259,
   "id": "bce19a13",
   "metadata": {},
   "outputs": [],
   "source": [
    "sharks_SORTED= sharks[sharks.groupby('Type').Type.transform('count')>20].copy() "
   ]
  },
  {
   "cell_type": "code",
   "execution_count": 646,
   "id": "cd175915",
   "metadata": {},
   "outputs": [],
   "source": [
    "sharks_SORTED= sharks_SORTED[sharks_SORTED.groupby('Activity').Activity.transform('count')>20]"
   ]
  },
  {
   "cell_type": "code",
   "execution_count": 262,
   "id": "6dae1751",
   "metadata": {},
   "outputs": [],
   "source": [
    "sharks_SORTED= sharks[sharks.groupby('Country').Country.transform('count')>20].copy()"
   ]
  },
  {
   "cell_type": "code",
   "execution_count": 498,
   "id": "1c94b809",
   "metadata": {},
   "outputs": [],
   "source": [
    "sharks_SORTED= sharks_SORTED[sharks_SORTED.groupby('Species').Species.transform('count')>20]"
   ]
  },
  {
   "cell_type": "code",
   "execution_count": 265,
   "id": "43f8ef41",
   "metadata": {
    "collapsed": true
   },
   "outputs": [
    {
     "name": "stdout",
     "output_type": "stream",
     "text": [
      "USA                 2207\n",
      "AUSTRALIA           1318\n",
      "SOUTH AFRICA         571\n",
      "PAPUA NEW GUINEA     130\n",
      "NEW ZEALAND          127\n",
      "BRAZIL               112\n",
      "BAHAMAS              106\n",
      "MEXICO                88\n",
      "ITALY                 67\n",
      "FIJI                  62\n",
      "PHILIPPINES           61\n",
      "REUNION               58\n",
      "NEW CALEDONIA         53\n",
      "MOZAMBIQUE            43\n",
      "CUBA                  43\n",
      "SPAIN                 41\n",
      "EGYPT                 38\n",
      "JAPAN                 34\n",
      "CROATIA               34\n",
      "INDIA                 34\n",
      "PANAMA                29\n",
      "SOLOMON ISLANDS       28\n",
      "IRAN                  25\n",
      "FRENCH POLYNESIA      24\n",
      "JAMAICA               24\n",
      "HONG KONG             24\n",
      "INDONESIA             22\n"
     ]
    }
   ],
   "source": [
    "check =sharks_SORTED['Country'].value_counts()\n",
    "print(check.to_string())"
   ]
  },
  {
   "cell_type": "code",
   "execution_count": 307,
   "id": "3b1b3be5",
   "metadata": {},
   "outputs": [],
   "source": [
    "test['Age']=test['Age'].astype(int).astype(str)"
   ]
  },
  {
   "cell_type": "code",
   "execution_count": 345,
   "id": "1b6248b3",
   "metadata": {},
   "outputs": [],
   "source": [
    "sharks_SORTED['Age'] =Test3['Age']"
   ]
  },
  {
   "cell_type": "code",
   "execution_count": 330,
   "id": "e494ce12",
   "metadata": {},
   "outputs": [],
   "source": [
    "sharks_SORTED.drop(['Age2'], axis = 1, inplace = True) "
   ]
  },
  {
   "cell_type": "code",
   "execution_count": 425,
   "id": "3d78281c",
   "metadata": {
    "collapsed": true
   },
   "outputs": [
    {
     "data": {
      "text/plain": [
       "White shark          268\n",
       "Tiger shark          163\n",
       "Bull shark            77\n",
       "whaler shark          47\n",
       "Nurse shark           35\n",
       "small shark           35\n",
       "reef shark            33\n",
       "Mako shark            31\n",
       "Raggedtooth shark     31\n",
       "white shark           29\n",
       "nurse shark           28\n",
       "Lemon shark           25\n",
       "Wobbegong shark       25\n",
       "Name: Species, dtype: int64"
      ]
     },
     "execution_count": 425,
     "metadata": {},
     "output_type": "execute_result"
    }
   ],
   "source": [
    "test['Species'] = test['Country'].str.upper()"
   ]
  },
  {
   "cell_type": "code",
   "execution_count": 431,
   "id": "a13ffbee",
   "metadata": {},
   "outputs": [],
   "source": [
    "sharks_SORTED['Sex']=sharks_SORTED['Sex ']"
   ]
  },
  {
   "cell_type": "code",
   "execution_count": 692,
   "id": "5e4e44e4",
   "metadata": {},
   "outputs": [],
   "source": [
    "sharks_lethality=sharks_SORTED.copy()"
   ]
  },
  {
   "cell_type": "code",
   "execution_count": 693,
   "id": "792bc66d",
   "metadata": {},
   "outputs": [],
   "source": [
    "sharks_lethality['Fatal (Y/N)'] =sharks_SORTED['Fatal (Y/N)'].str.extract('(^Y)')"
   ]
  },
  {
   "cell_type": "markdown",
   "id": "139e9aad",
   "metadata": {},
   "source": [
    "# VISUALIZATION"
   ]
  },
  {
   "cell_type": "code",
   "execution_count": 722,
   "id": "c09f8937",
   "metadata": {},
   "outputs": [],
   "source": [
    "sns.set_context('notebook')\n",
    "sns.set(rc={'figure.figsize': (13, 8)})\n",
    "sns.set_style('whitegrid')"
   ]
  },
  {
   "cell_type": "markdown",
   "id": "77274bbc",
   "metadata": {},
   "source": [
    "### Hypothesis A."
   ]
  },
  {
   "cell_type": "code",
   "execution_count": 733,
   "id": "e42aba54",
   "metadata": {},
   "outputs": [],
   "source": [
    "hypo3.figure.savefig('images/Hypo3/hypo3.png', dpi=1000)"
   ]
  },
  {
   "cell_type": "code",
   "execution_count": 727,
   "id": "06668080",
   "metadata": {
    "scrolled": true
   },
   "outputs": [
    {
     "data": {
      "image/png": "[encoded data removed]",
      "text/plain": [
       "<Figure size 936x576 with 1 Axes>"
      ]
     },
     "metadata": {},
     "output_type": "display_data"
    }
   ],
   "source": [
    "hypo1=sns.countplot(x=sharks_SORTED[\"Activity\"], hue=sharks_SORTED[\"Fatal (Y/N)\"], palette=\"magma\",dodge=True)"
   ]
  },
  {
   "cell_type": "markdown",
   "id": "dc855bd7",
   "metadata": {},
   "source": [
    "### Hypothesis B."
   ]
  },
  {
   "cell_type": "code",
   "execution_count": 697,
   "id": "7ffc39aa",
   "metadata": {},
   "outputs": [],
   "source": [
    "sns.set_style('darkgrid')\n",
    "sns.set(rc={'figure.figsize': (4, 6)})"
   ]
  },
  {
   "cell_type": "code",
   "execution_count": 710,
   "id": "3713acce",
   "metadata": {},
   "outputs": [
    {
     "data": {
      "image/png": "[encoded data removed]",
      "text/plain": [
       "<Figure size 288x432 with 1 Axes>"
      ]
     },
     "metadata": {},
     "output_type": "display_data"
    }
   ],
   "source": [
    "hypo2=sns.countplot(x=sharks_SORTED[\"Sex\"], hue=sharks_SORTED[\"Sex\"], palette='icefire',dodge=False)"
   ]
  },
  {
   "cell_type": "markdown",
   "id": "9672f92f",
   "metadata": {},
   "source": [
    "### Hypothesis C."
   ]
  },
  {
   "cell_type": "code",
   "execution_count": 731,
   "id": "9249a84b",
   "metadata": {},
   "outputs": [],
   "source": [
    "sns.set(rc={'figure.figsize': (8,4)})"
   ]
  },
  {
   "cell_type": "code",
   "execution_count": 732,
   "id": "cb2dd5ef",
   "metadata": {},
   "outputs": [
    {
     "data": {
      "image/png": "[encoded data removed]",
      "text/plain": [
       "<Figure size 576x288 with 1 Axes>"
      ]
     },
     "metadata": {},
     "output_type": "display_data"
    }
   ],
   "source": [
    "hypo3=sns.countplot(x=sharks_SORTED[\"Country\"], hue=sharks_SORTED[\"Country\"],dodge=True)"
   ]
  },
  {
   "cell_type": "markdown",
   "id": "ab807b42",
   "metadata": {},
   "source": [
    "### Hypothesis D."
   ]
  },
  {
   "cell_type": "code",
   "execution_count": 695,
   "id": "a4cfd676",
   "metadata": {},
   "outputs": [],
   "source": [
    "sns.set(rc={'figure.figsize': (8, 5)})"
   ]
  },
  {
   "cell_type": "code",
   "execution_count": 712,
   "id": "46f94482",
   "metadata": {
    "scrolled": true
   },
   "outputs": [
    {
     "data": {
      "image/png": "[encoded data removed]",
      "text/plain": [
       "<Figure size 288x432 with 1 Axes>"
      ]
     },
     "metadata": {},
     "output_type": "display_data"
    }
   ],
   "source": [
    "hypo4=sns.countplot(x=sharks_lethality[\"Fatal (Y/N)\"], hue=sharks_SORTED[\"Species\"], palette=\"dark\", color='green',dodge=True)"
   ]
  },
  {
   "cell_type": "markdown",
   "id": "c3aa7c1b",
   "metadata": {},
   "source": [
    "### Hypothesis E."
   ]
  },
  {
   "cell_type": "code",
   "execution_count": 713,
   "id": "b2b3efd9",
   "metadata": {
    "scrolled": true
   },
   "outputs": [
    {
     "data": {
      "image/png": "[encoded data removed]",
      "text/plain": [
       "<Figure size 288x432 with 1 Axes>"
      ]
     },
     "metadata": {},
     "output_type": "display_data"
    }
   ],
   "source": [
    "hypo5=sns.countplot(x=sharks_lethality[\"Age\"], hue=sharks_SORTED[\"Age\"], palette='rocket',dodge=False)"
   ]
  },
  {
   "cell_type": "code",
   "execution_count": null,
   "id": "105df7ff",
   "metadata": {},
   "outputs": [],
   "source": []
  }
 ],
 "metadata": {
  "kernelspec": {
   "display_name": "Python 3 (ipykernel)",
   "language": "python",
   "name": "python3"
  },
  "language_info": {
   "codemirror_mode": {
    "name": "ipython",
    "version": 3
   },
   "file_extension": ".py",
   "mimetype": "text/x-python",
   "name": "python",
   "nbconvert_exporter": "python",
   "pygments_lexer": "ipython3",
   "version": "3.9.12"
  }
 },
 "nbformat": 4,
 "nbformat_minor": 5
}
